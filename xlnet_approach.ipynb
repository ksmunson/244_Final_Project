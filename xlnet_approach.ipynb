{
 "cells": [
  {
   "cell_type": "code",
   "execution_count": 89,
   "metadata": {},
   "outputs": [],
   "source": [
    "import pandas as pd\n",
    "from datasets import load_dataset, Dataset\n",
    "from transformers import TrainingArguments, Trainer, EvalPrediction\n",
    "import os\n",
    "#%pip install scipy\n",
    "import scipy\n",
    "import numpy as np\n",
    "import random\n",
    "import torch\n",
    "import torch.nn as nn\n",
    "import torch.nn.functional as F\n",
    "from torch.utils.data import DataLoader, Dataset\n",
    "from tqdm.notebook import tqdm as tqdm\n",
    "from sklearn.preprocessing import OneHotEncoder\n",
    "from scipy.stats import spearmanr\n",
    "\n",
    "N_TARGETS = 30\n",
    "N_Q_TARGETS = 21\n",
    "N_A_TARGETS = 9"
   ]
  },
  {
   "cell_type": "code",
   "execution_count": 90,
   "metadata": {},
   "outputs": [
    {
     "name": "stdout",
     "output_type": "stream",
     "text": [
      "['test.csv', 'train.csv']\n"
     ]
    }
   ],
   "source": [
    "#data import \n",
    "train_df = pd.read_csv('data/train.csv').fillna(' ')\n",
    "test_df = pd.read_csv('data/test.csv').fillna(' ')\n",
    "#display (train_df)\n",
    "print (os.listdir('data'))\n",
    "#dataset = Dataset.from_pandas(train_df)\n",
    "#data_files = {\"train\": \"train.csv\", \"test\": \"test.csv\"}\n",
    "#dataset = load_dataset(\"data\", data_files=data_files)\n",
    "#print (dataset)"
   ]
  },
  {
   "cell_type": "code",
   "execution_count": 91,
   "metadata": {},
   "outputs": [
    {
     "data": {
      "text/plain": [
       "'data_collator = DefaultDataCollator()\\ntokenizer = XLNetTokenizer.from_pretrained(model_name)\\nconfig = XLNetConfig.from_pretrained(\\n    \"roberta-base\",\\n    num_labels=1,\\n    id2label={ 0: \"👎\", 1: \"👍\"},\\n)\\nmodel = XLNetLMHeadModel.from_pretrained(\\n    \"roberta-base\",\\n    config=config,\\n)'"
      ]
     },
     "execution_count": 91,
     "metadata": {},
     "output_type": "execute_result"
    }
   ],
   "source": [
    "from transformers import XLNetTokenizer, XLNetForSequenceClassification, DefaultDataCollator, XLNetConfig, XLNetLMHeadModel, XLNetModel\n",
    "model_name = 'xlnet-base-cased' # 'xlnet-large-cased', 'tiny-xlnet-base-cased', 'jkgrad/xlnet-base-squadv2'\n"
   ]
  },
  {
   "cell_type": "code",
   "execution_count": 92,
   "metadata": {},
   "outputs": [],
   "source": [
    "class TextDataset5(Dataset):\n",
    "\n",
    "    def __init__(self, x_features, question_ids, answer_ids, seg_question_ids, \n",
    "                    seg_answer_ids, idxs, targets=None):\n",
    "        self.question_ids = question_ids[idxs].astype(np.int64) #np.long\n",
    "        self.answer_ids = answer_ids[idxs].astype(np.int64)\n",
    "        self.seg_question_ids = seg_question_ids[idxs].astype(np.int64)\n",
    "        self.seg_answer_ids = seg_answer_ids[idxs].astype(np.int64)\n",
    "        self.x_features = x_features[idxs].astype(np.float32)\n",
    "        if targets is not None: self.targets = targets[idxs].astype(np.float32)\n",
    "        else: self.targets = np.zeros((self.x_features.shape[0], N_TARGETS), dtype=np.float32)\n",
    "\n",
    "    def __getitem__(self, idx):\n",
    "        q_ids = self.question_ids[idx]\n",
    "        a_ids = self.answer_ids[idx]\n",
    "        seg_q_ids = self.seg_question_ids[idx]\n",
    "        seg_a_ids = self.seg_answer_ids[idx]\n",
    "        x_feats = self.x_features[idx]\n",
    "        target = self.targets[idx]\n",
    "        return (x_feats, q_ids, a_ids, seg_q_ids, seg_a_ids), target\n",
    "\n",
    "    def __len__(self):\n",
    "        return len(self.x_features)\n",
    "#features\n",
    "def get_categorical_features(train, test, feature):\n",
    "    unique_vals = list(set(train[feature].unique().tolist() \n",
    "                            + test[feature].unique().tolist()))\n",
    "    feat_dict = {i + 1: e for i, e in enumerate(unique_vals)}\n",
    "    feat_dict_reverse = {v: k for k, v in feat_dict.items()}\n",
    "\n",
    "    train_feat = train[feature].apply(lambda x: feat_dict_reverse[x]).values\n",
    "    test_feat = test[feature].apply(lambda x: feat_dict_reverse[x]).values\n",
    "\n",
    "    return train_feat, test_feat, feat_dict, feat_dict_reverse"
   ]
  },
  {
   "cell_type": "code",
   "execution_count": 94,
   "metadata": {},
   "outputs": [],
   "source": [
    "def to_cpu(x):\n",
    "    return x.contiguous().detach().cpu()\n",
    "\n",
    "\n",
    "def to_numpy(x):\n",
    "    return to_cpu(x).numpy()\n",
    "\n",
    "\n",
    "def to_device(xs, device):\n",
    "    if isinstance(xs, tuple) or isinstance(xs, list):\n",
    "        return [x.to(device) for x in xs]\n",
    "    else: return [xs.to(device)]\n",
    "    \n",
    "def infer_batch(inputs, model, device, to_numpy=True):\n",
    "    inputs = to_device(inputs, device)\n",
    "    predicted = model(*inputs)\n",
    "    inputs = [x.cpu() for x in inputs]\n",
    "    preds = torch.sigmoid(predicted)\n",
    "    if to_numpy: preds = preds.cpu().detach().numpy().astype(np.float32)\n",
    "    return preds\n",
    "\n",
    "\n",
    "def infer(model, loader, checkpoint_file=None, device=torch.device('cuda')):\n",
    "    n_obs = len(loader.dataset)\n",
    "    batch_sz = loader.batch_size\n",
    "    predictions = np.zeros((n_obs, N_TARGETS))\n",
    "\n",
    "    if checkpoint_file is not None:\n",
    "        print(f'Starting inference for model: {checkpoint_file}')\n",
    "        checkpoint = torch.load(checkpoint_file)\n",
    "        model.load_state_dict(checkpoint['model_state_dict'])\n",
    "    model.float()\n",
    "    model.to(device)\n",
    "    model.eval()\n",
    "\n",
    "    with torch.no_grad():\n",
    "        for i, (inputs, _) in enumerate(tqdm(loader)):\n",
    "            start_index = i * batch_sz\n",
    "            end_index = min(start_index + batch_sz, n_obs)\n",
    "            batch_preds = infer_batch(inputs, model, device)\n",
    "            predictions[start_index:end_index, :] += batch_preds\n",
    "\n",
    "    return predictions\n",
    "def init_seed(seed=100):\n",
    "    os.environ['PYTHONHASHSEED'] = str(seed)\n",
    "    random.seed(seed)\n",
    "    np.random.seed(seed)\n",
    "    torch.manual_seed(seed)\n",
    "    torch.cuda.manual_seed_all(seed)\n",
    "    torch.backends.cudnn.deterministic = True\n",
    "\n",
    "\n",
    "class GELU(nn.Module):\n",
    "    def forward(self, x):\n",
    "        return x * torch.sigmoid(1.702 * x)\n",
    "\n",
    "\n",
    "def lin_layer(n_in, n_out, dropout):\n",
    "    return nn.Sequential(nn.Linear(n_in, n_out), GELU(), nn.Dropout(dropout))\n",
    "\n",
    "class Head2(nn.Module):\n",
    "    def __init__(self, n_h=512, n_feats=74, n_bert=768, dropout=0.2):\n",
    "        super().__init__()\n",
    "        n_x = n_feats + 2 * n_bert\n",
    "        self.lin = lin_layer(n_in=n_x, n_out=n_h, dropout=dropout)\n",
    "        self.lin_q = lin_layer(n_in=n_feats + n_bert, n_out=n_h, dropout=dropout)\n",
    "        self.lin_a = lin_layer(n_in=n_feats + n_bert, n_out=n_h, dropout=dropout)\n",
    "        self.head_q = nn.Linear(2 * n_h, N_Q_TARGETS)\n",
    "        self.head_a = nn.Linear(2 * n_h, N_A_TARGETS)\n",
    "\n",
    "    def forward(self, x_feats, x_q_bert, x_a_bert):\n",
    "        x_q = self.lin_q(torch.cat([x_feats, x_q_bert], dim=1))\n",
    "        x_a = self.lin_a(torch.cat([x_feats, x_a_bert], dim=1))\n",
    "        x = self.lin(torch.cat([x_feats, x_q_bert, x_a_bert], dim=1))\n",
    "        x_q = self.head_q(torch.cat([x, x_q], dim=1))\n",
    "        x_a = self.head_a(torch.cat([x, x_a], dim=1))\n",
    "        return torch.cat([x_q, x_a], dim=1)\n"
   ]
  },
  {
   "cell_type": "code",
   "execution_count": 95,
   "metadata": {},
   "outputs": [],
   "source": [
    "class AvgPooledXLNet(XLNetModel):\n",
    "    def forward(self, ids, seg_ids=None):\n",
    "        att_mask = (ids > 0).float()\n",
    "        x_bert = super().forward(ids, att_mask, token_type_ids=seg_ids)[0]\n",
    "        att_mask = att_mask.unsqueeze(-1)\n",
    "        return (x_bert * att_mask).sum(dim=1) / att_mask.sum(dim=1)\n",
    "class CustomXLNet(nn.Module):\n",
    "    def __init__(self, n_h, n_feats, head_dropout=0.2):\n",
    "        super().__init__()\n",
    "        #config = XLNetConfig.from_json_file('xlnet-base-cased/config.json') \n",
    "        config = XLNetConfig(d_inner=3072, d_model=768, n_head=12, n_layer=12)#using same format as example\n",
    "        self.xlnet = AvgPooledXLNet(config)\n",
    "        self.head = Head2(n_h, n_feats, n_bert=768, dropout=head_dropout)\n",
    "\n",
    "    def forward(self, x_feats, q_ids, a_ids, seg_q_ids=None, seg_a_ids=None):\n",
    "        x_q_bert = self.xlnet(q_ids, seg_q_ids)\n",
    "        x_a_bert = self.xlnet(a_ids, seg_a_ids)\n",
    "        return self.head(x_feats, x_q_bert, x_a_bert)\n",
    "def get_preds(train, test, ModelClass, tokenizer, model_name, checkpoint_dir, folds):\n",
    "\n",
    "    seg_ids_test, ids_test = {}, {}\n",
    "    max_seq_len = 512\n",
    "    for mode, df in [('test', test)]:\n",
    "        for text, cols in [('question', ['question_title', 'question_body']), \n",
    "                            ('answer', ['question_title', 'answer'])]:\n",
    "            ids, seg_ids = [], []\n",
    "            for x1, x2 in tqdm(df[cols].values):\n",
    "                encoded_inputs = tokenizer.encode_plus(\n",
    "                    x1, x2, add_special_tokens=True, max_length=max_seq_len, truncation =True, padding = 'max_length', # pad_to_max_length=True,  #\n",
    "                    return_token_type_ids=True\n",
    "                )\n",
    "                ids.append(encoded_inputs['input_ids'])\n",
    "                seg_ids.append(encoded_inputs['token_type_ids'])\n",
    "            ids_test[text] = np.array(ids)\n",
    "            seg_ids_test[text] = np.array(seg_ids)\n",
    "\n",
    "    train_category, test_category, category_dict, category_dict_reverse = \\\n",
    "        get_categorical_features(train, test, 'category')\n",
    "\n",
    "    cat_features_train = train_category.reshape(-1, 1)\n",
    "    cat_features_test = test_category.reshape(-1, 1)\n",
    "    ohe = OneHotEncoder(handle_unknown='ignore')\n",
    "    ohe.fit(cat_features_train)\n",
    "    cat_features_test = ohe.transform(cat_features_test).toarray()\n",
    "\n",
    "    num_workers = 8\n",
    "    device = 'cuda'\n",
    "\n",
    "    bs_test = 2\n",
    "    test_loader = DataLoader(\n",
    "        TextDataset5(cat_features_test, ids_test['question'], ids_test['answer'], \n",
    "                        seg_ids_test['question'], seg_ids_test['answer'], test.index),\n",
    "        batch_size=bs_test, shuffle=False, num_workers=num_workers\n",
    "    )\n",
    "\n",
    "    init_seed()\n",
    "    preds = np.zeros((len(test), N_TARGETS))\n",
    "    for fold_id in folds:\n",
    "        checkpoint_file = f'{checkpoint_dir}{model_name}_fold_{fold_id + 1}_best.pth'\n",
    "        model = ModelClass(256, cat_features_test.shape[1]).to(device)\n",
    "        test_preds = infer(model, test_loader, checkpoint_file, device)\n",
    "        preds += test_preds / len(folds)\n",
    "\n",
    "    return preds\n",
    "\n",
    "def get_xlnet_preds(train, test):\n",
    "    tokenizer = XLNetTokenizer.from_pretrained('xlnet-base-cased')\n",
    "    model_name = 'siamese_xlnet_1_comb'\n",
    "    checkpoint_dir = 'xlnet-model/'\n",
    "    return get_preds(train, test, CustomXLNet, tokenizer, model_name, checkpoint_dir, [0, 1, 2, 4, 5, 7, 8])"
   ]
  },
  {
   "cell_type": "code",
   "execution_count": 96,
   "metadata": {},
   "outputs": [
    {
     "name": "stdout",
     "output_type": "stream",
     "text": [
      "odict_keys(['xlnet.mask_emb', 'xlnet.word_embedding.weight', 'xlnet.layer.0.rel_attn.q', 'xlnet.layer.0.rel_attn.k', 'xlnet.layer.0.rel_attn.v', 'xlnet.layer.0.rel_attn.o', 'xlnet.layer.0.rel_attn.r', 'xlnet.layer.0.rel_attn.r_r_bias', 'xlnet.layer.0.rel_attn.r_s_bias', 'xlnet.layer.0.rel_attn.r_w_bias', 'xlnet.layer.0.rel_attn.seg_embed', 'xlnet.layer.0.rel_attn.layer_norm.weight', 'xlnet.layer.0.rel_attn.layer_norm.bias', 'xlnet.layer.0.ff.layer_norm.weight', 'xlnet.layer.0.ff.layer_norm.bias', 'xlnet.layer.0.ff.layer_1.weight', 'xlnet.layer.0.ff.layer_1.bias', 'xlnet.layer.0.ff.layer_2.weight', 'xlnet.layer.0.ff.layer_2.bias', 'xlnet.layer.1.rel_attn.q', 'xlnet.layer.1.rel_attn.k', 'xlnet.layer.1.rel_attn.v', 'xlnet.layer.1.rel_attn.o', 'xlnet.layer.1.rel_attn.r', 'xlnet.layer.1.rel_attn.r_r_bias', 'xlnet.layer.1.rel_attn.r_s_bias', 'xlnet.layer.1.rel_attn.r_w_bias', 'xlnet.layer.1.rel_attn.seg_embed', 'xlnet.layer.1.rel_attn.layer_norm.weight', 'xlnet.layer.1.rel_attn.layer_norm.bias', 'xlnet.layer.1.ff.layer_norm.weight', 'xlnet.layer.1.ff.layer_norm.bias', 'xlnet.layer.1.ff.layer_1.weight', 'xlnet.layer.1.ff.layer_1.bias', 'xlnet.layer.1.ff.layer_2.weight', 'xlnet.layer.1.ff.layer_2.bias', 'xlnet.layer.2.rel_attn.q', 'xlnet.layer.2.rel_attn.k', 'xlnet.layer.2.rel_attn.v', 'xlnet.layer.2.rel_attn.o', 'xlnet.layer.2.rel_attn.r', 'xlnet.layer.2.rel_attn.r_r_bias', 'xlnet.layer.2.rel_attn.r_s_bias', 'xlnet.layer.2.rel_attn.r_w_bias', 'xlnet.layer.2.rel_attn.seg_embed', 'xlnet.layer.2.rel_attn.layer_norm.weight', 'xlnet.layer.2.rel_attn.layer_norm.bias', 'xlnet.layer.2.ff.layer_norm.weight', 'xlnet.layer.2.ff.layer_norm.bias', 'xlnet.layer.2.ff.layer_1.weight', 'xlnet.layer.2.ff.layer_1.bias', 'xlnet.layer.2.ff.layer_2.weight', 'xlnet.layer.2.ff.layer_2.bias', 'xlnet.layer.3.rel_attn.q', 'xlnet.layer.3.rel_attn.k', 'xlnet.layer.3.rel_attn.v', 'xlnet.layer.3.rel_attn.o', 'xlnet.layer.3.rel_attn.r', 'xlnet.layer.3.rel_attn.r_r_bias', 'xlnet.layer.3.rel_attn.r_s_bias', 'xlnet.layer.3.rel_attn.r_w_bias', 'xlnet.layer.3.rel_attn.seg_embed', 'xlnet.layer.3.rel_attn.layer_norm.weight', 'xlnet.layer.3.rel_attn.layer_norm.bias', 'xlnet.layer.3.ff.layer_norm.weight', 'xlnet.layer.3.ff.layer_norm.bias', 'xlnet.layer.3.ff.layer_1.weight', 'xlnet.layer.3.ff.layer_1.bias', 'xlnet.layer.3.ff.layer_2.weight', 'xlnet.layer.3.ff.layer_2.bias', 'xlnet.layer.4.rel_attn.q', 'xlnet.layer.4.rel_attn.k', 'xlnet.layer.4.rel_attn.v', 'xlnet.layer.4.rel_attn.o', 'xlnet.layer.4.rel_attn.r', 'xlnet.layer.4.rel_attn.r_r_bias', 'xlnet.layer.4.rel_attn.r_s_bias', 'xlnet.layer.4.rel_attn.r_w_bias', 'xlnet.layer.4.rel_attn.seg_embed', 'xlnet.layer.4.rel_attn.layer_norm.weight', 'xlnet.layer.4.rel_attn.layer_norm.bias', 'xlnet.layer.4.ff.layer_norm.weight', 'xlnet.layer.4.ff.layer_norm.bias', 'xlnet.layer.4.ff.layer_1.weight', 'xlnet.layer.4.ff.layer_1.bias', 'xlnet.layer.4.ff.layer_2.weight', 'xlnet.layer.4.ff.layer_2.bias', 'xlnet.layer.5.rel_attn.q', 'xlnet.layer.5.rel_attn.k', 'xlnet.layer.5.rel_attn.v', 'xlnet.layer.5.rel_attn.o', 'xlnet.layer.5.rel_attn.r', 'xlnet.layer.5.rel_attn.r_r_bias', 'xlnet.layer.5.rel_attn.r_s_bias', 'xlnet.layer.5.rel_attn.r_w_bias', 'xlnet.layer.5.rel_attn.seg_embed', 'xlnet.layer.5.rel_attn.layer_norm.weight', 'xlnet.layer.5.rel_attn.layer_norm.bias', 'xlnet.layer.5.ff.layer_norm.weight', 'xlnet.layer.5.ff.layer_norm.bias', 'xlnet.layer.5.ff.layer_1.weight', 'xlnet.layer.5.ff.layer_1.bias', 'xlnet.layer.5.ff.layer_2.weight', 'xlnet.layer.5.ff.layer_2.bias', 'xlnet.layer.6.rel_attn.q', 'xlnet.layer.6.rel_attn.k', 'xlnet.layer.6.rel_attn.v', 'xlnet.layer.6.rel_attn.o', 'xlnet.layer.6.rel_attn.r', 'xlnet.layer.6.rel_attn.r_r_bias', 'xlnet.layer.6.rel_attn.r_s_bias', 'xlnet.layer.6.rel_attn.r_w_bias', 'xlnet.layer.6.rel_attn.seg_embed', 'xlnet.layer.6.rel_attn.layer_norm.weight', 'xlnet.layer.6.rel_attn.layer_norm.bias', 'xlnet.layer.6.ff.layer_norm.weight', 'xlnet.layer.6.ff.layer_norm.bias', 'xlnet.layer.6.ff.layer_1.weight', 'xlnet.layer.6.ff.layer_1.bias', 'xlnet.layer.6.ff.layer_2.weight', 'xlnet.layer.6.ff.layer_2.bias', 'xlnet.layer.7.rel_attn.q', 'xlnet.layer.7.rel_attn.k', 'xlnet.layer.7.rel_attn.v', 'xlnet.layer.7.rel_attn.o', 'xlnet.layer.7.rel_attn.r', 'xlnet.layer.7.rel_attn.r_r_bias', 'xlnet.layer.7.rel_attn.r_s_bias', 'xlnet.layer.7.rel_attn.r_w_bias', 'xlnet.layer.7.rel_attn.seg_embed', 'xlnet.layer.7.rel_attn.layer_norm.weight', 'xlnet.layer.7.rel_attn.layer_norm.bias', 'xlnet.layer.7.ff.layer_norm.weight', 'xlnet.layer.7.ff.layer_norm.bias', 'xlnet.layer.7.ff.layer_1.weight', 'xlnet.layer.7.ff.layer_1.bias', 'xlnet.layer.7.ff.layer_2.weight', 'xlnet.layer.7.ff.layer_2.bias', 'xlnet.layer.8.rel_attn.q', 'xlnet.layer.8.rel_attn.k', 'xlnet.layer.8.rel_attn.v', 'xlnet.layer.8.rel_attn.o', 'xlnet.layer.8.rel_attn.r', 'xlnet.layer.8.rel_attn.r_r_bias', 'xlnet.layer.8.rel_attn.r_s_bias', 'xlnet.layer.8.rel_attn.r_w_bias', 'xlnet.layer.8.rel_attn.seg_embed', 'xlnet.layer.8.rel_attn.layer_norm.weight', 'xlnet.layer.8.rel_attn.layer_norm.bias', 'xlnet.layer.8.ff.layer_norm.weight', 'xlnet.layer.8.ff.layer_norm.bias', 'xlnet.layer.8.ff.layer_1.weight', 'xlnet.layer.8.ff.layer_1.bias', 'xlnet.layer.8.ff.layer_2.weight', 'xlnet.layer.8.ff.layer_2.bias', 'xlnet.layer.9.rel_attn.q', 'xlnet.layer.9.rel_attn.k', 'xlnet.layer.9.rel_attn.v', 'xlnet.layer.9.rel_attn.o', 'xlnet.layer.9.rel_attn.r', 'xlnet.layer.9.rel_attn.r_r_bias', 'xlnet.layer.9.rel_attn.r_s_bias', 'xlnet.layer.9.rel_attn.r_w_bias', 'xlnet.layer.9.rel_attn.seg_embed', 'xlnet.layer.9.rel_attn.layer_norm.weight', 'xlnet.layer.9.rel_attn.layer_norm.bias', 'xlnet.layer.9.ff.layer_norm.weight', 'xlnet.layer.9.ff.layer_norm.bias', 'xlnet.layer.9.ff.layer_1.weight', 'xlnet.layer.9.ff.layer_1.bias', 'xlnet.layer.9.ff.layer_2.weight', 'xlnet.layer.9.ff.layer_2.bias', 'xlnet.layer.10.rel_attn.q', 'xlnet.layer.10.rel_attn.k', 'xlnet.layer.10.rel_attn.v', 'xlnet.layer.10.rel_attn.o', 'xlnet.layer.10.rel_attn.r', 'xlnet.layer.10.rel_attn.r_r_bias', 'xlnet.layer.10.rel_attn.r_s_bias', 'xlnet.layer.10.rel_attn.r_w_bias', 'xlnet.layer.10.rel_attn.seg_embed', 'xlnet.layer.10.rel_attn.layer_norm.weight', 'xlnet.layer.10.rel_attn.layer_norm.bias', 'xlnet.layer.10.ff.layer_norm.weight', 'xlnet.layer.10.ff.layer_norm.bias', 'xlnet.layer.10.ff.layer_1.weight', 'xlnet.layer.10.ff.layer_1.bias', 'xlnet.layer.10.ff.layer_2.weight', 'xlnet.layer.10.ff.layer_2.bias', 'xlnet.layer.11.rel_attn.q', 'xlnet.layer.11.rel_attn.k', 'xlnet.layer.11.rel_attn.v', 'xlnet.layer.11.rel_attn.o', 'xlnet.layer.11.rel_attn.r', 'xlnet.layer.11.rel_attn.r_r_bias', 'xlnet.layer.11.rel_attn.r_s_bias', 'xlnet.layer.11.rel_attn.r_w_bias', 'xlnet.layer.11.rel_attn.seg_embed', 'xlnet.layer.11.rel_attn.layer_norm.weight', 'xlnet.layer.11.rel_attn.layer_norm.bias', 'xlnet.layer.11.ff.layer_norm.weight', 'xlnet.layer.11.ff.layer_norm.bias', 'xlnet.layer.11.ff.layer_1.weight', 'xlnet.layer.11.ff.layer_1.bias', 'xlnet.layer.11.ff.layer_2.weight', 'xlnet.layer.11.ff.layer_2.bias', 'head.lin.0.weight', 'head.lin.0.bias', 'head.lin_q.0.weight', 'head.lin_q.0.bias', 'head.lin_a.0.weight', 'head.lin_a.0.bias', 'head.head_q.weight', 'head.head_q.bias', 'head.head_a.weight', 'head.head_a.bias'])\n"
     ]
    }
   ],
   "source": [
    "#torch_dict = torch.load('xlnet-model/siamese_xlnet_1_comb_fold_1_best.pth')\n",
    "#print (torch_dict['model_state_dict'].keys())\n",
    "#trainer"
   ]
  },
  {
   "cell_type": "code",
   "execution_count": 97,
   "metadata": {},
   "outputs": [
    {
     "data": {
      "application/vnd.jupyter.widget-view+json": {
       "model_id": "9b4c078405c44d8081cfd16c3554cc90",
       "version_major": 2,
       "version_minor": 0
      },
      "text/plain": [
       "  0%|          | 0/476 [00:00<?, ?it/s]"
      ]
     },
     "metadata": {},
     "output_type": "display_data"
    },
    {
     "data": {
      "application/vnd.jupyter.widget-view+json": {
       "model_id": "8d6296e9769b4a1c942e7893f3f7655b",
       "version_major": 2,
       "version_minor": 0
      },
      "text/plain": [
       "  0%|          | 0/476 [00:00<?, ?it/s]"
      ]
     },
     "metadata": {},
     "output_type": "display_data"
    },
    {
     "name": "stdout",
     "output_type": "stream",
     "text": [
      "Starting inference for model: xlnet-model/siamese_xlnet_1_comb_fold_1_best.pth\n"
     ]
    },
    {
     "data": {
      "application/vnd.jupyter.widget-view+json": {
       "model_id": "7c8497843bcc4286810cfcaabb754edc",
       "version_major": 2,
       "version_minor": 0
      },
      "text/plain": [
       "  0%|          | 0/238 [00:00<?, ?it/s]"
      ]
     },
     "metadata": {},
     "output_type": "display_data"
    }
   ],
   "source": [
    "import transformers\n",
    "transformers.logging.set_verbosity_error()\n",
    "xlnet_pred = get_xlnet_preds(train_df, test_df)"
   ]
  }
 ],
 "metadata": {
  "interpreter": {
   "hash": "ac9e7467ab50678fb25b34fbfebaa7dd0935f663e602be01974fdf6c9ce75ada"
  },
  "kernelspec": {
   "display_name": "Python 3.10.4 64-bit (windows store)",
   "language": "python",
   "name": "python3"
  },
  "language_info": {
   "codemirror_mode": {
    "name": "ipython",
    "version": 3
   },
   "file_extension": ".py",
   "mimetype": "text/x-python",
   "name": "python",
   "nbconvert_exporter": "python",
   "pygments_lexer": "ipython3",
   "version": "3.10.4"
  },
  "orig_nbformat": 4
 },
 "nbformat": 4,
 "nbformat_minor": 2
}
